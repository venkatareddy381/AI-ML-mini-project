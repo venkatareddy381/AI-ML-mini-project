{
 "cells": [
  {
   "cell_type": "code",
   "execution_count": null,
   "metadata": {
    "id": "CyLvpAEiLMKK"
   },
   "outputs": [],
   "source": [
    "#Problem Statement -\n",
    "#Build a machine learning model to detect image digit from mnist dataset\n",
    "#a. Try logistic regression, decision tree, and svm and see which algorithm is performing\n",
    "#better.\n",
    "#b. Infer your observations and insights and prepare a report. Make sure it has a\n",
    "#comparison table at the end.\n",
    "#Sample mnist dataset\n",
    "#5 0 4 1 9 2 1 3 1 4"
   ]
  },
  {
   "cell_type": "code",
   "execution_count": null,
   "metadata": {
    "colab": {
     "base_uri": "https://localhost:8080/"
    },
    "executionInfo": {
     "elapsed": 3585,
     "status": "ok",
     "timestamp": 1713088838340,
     "user": {
      "displayName": "Venkata Reddy Bhavanam",
      "userId": "16941474646235022803"
     },
     "user_tz": -330
    },
    "id": "kXWRTXfL7Cn-",
    "outputId": "77e3bbf9-4012-4798-e040-da1cd6c6a7e1"
   },
   "outputs": [
    {
     "name": "stdout",
     "output_type": "stream",
     "text": [
      "Fetching MNIST dataset from OpenML...\n",
      "MNIST dataset loaded successfully.\n",
      "Data normalized.\n",
      "Data split into training (56000 samples) and testing (14000 samples) sets.\n"
     ]
    }
   ],
   "source": [
    "\n",
    "# Import necessary libraries\n",
    "# from sklearn.datasets import fetch_openml\n",
    "# from sklearn.model_selection import train_test_split\n",
    "# from sklearn.preprocessing import StandardScaler\n",
    "# from sklearn.linear_model import LogisticRegression\n",
    "# from sklearn.tree import DecisionTreeClassifier\n",
    "# from sklearn.svm import SVC\n",
    "# from sklearn.metrics import accuracy_score\n",
    "from sklearn.datasets import fetch_openml\n",
    "from sklearn.model_selection import train_test_split\n",
    "import pandas as pd\n",
    "\n",
    "# print(\"Starting MNIST Digit Detection script...\")\n",
    "\n",
    "# 1. Load the MNIST dataset using scikit-learn's fetch_openml\n",
    "# This will download the dataset if it's not already cached.\n",
    "# The 'data' attribute contains the image pixel values, and 'target' contains the labels.\n",
    "# as_frame=False ensures it returns numpy arrays, which is often easier for ML tasks.\n",
    "try:\n",
    "    print(\"Fetching MNIST dataset from OpenML...\")\n",
    "    mnist = fetch_openml('mnist_784', version=1, as_frame=False, parser='auto')\n",
    "    x, y = mnist.data, mnist.target\n",
    "    print(\"MNIST dataset loaded successfully.\")\n",
    "except Exception as e:\n",
    "    print(f\"Error loading MNIST dataset: {e}\")\n",
    "    print(\"Please ensure you have an active internet connection to download the dataset.\")\n",
    "    exit() # Exit if data loading fails\n",
    "\n",
    "# 2. Preprocess the data\n",
    "# Flatten the images (they are already flattened by fetch_openml to 784 features)\n",
    "# Normalize the pixel values to be between 0 and 1\n",
    "# MNIST pixel values range from 0 to 255.\n",
    "x= x / 255.0\n",
    "print(\"Data normalized.\")\n",
    "\n",
    "# Split the dataset into training and testing sets\n",
    "# We'll use a 80/20 split (80% for training, 20% for testing)\n",
    "x_train, x_test, y_train, y_test = train_test_split(x, y, test_size=0.2, random_state=42)\n",
    "print(f\"Data split into training ({x_train.shape[0]} samples) and testing ({x_test.shape[0]} samples) sets.\")\n",
    "\n"
   ]
  },
  {
   "cell_type": "code",
   "execution_count": 3,
   "metadata": {
    "colab": {
     "base_uri": "https://localhost:8080/"
    },
    "executionInfo": {
     "elapsed": 666656,
     "status": "ok",
     "timestamp": 1710523960868,
     "user": {
      "displayName": "Venkata Reddy Bhavanam",
      "userId": "16941474646235022803"
     },
     "user_tz": -330
    },
    "id": "talLtZadFkTy",
    "outputId": "79f4beb6-1d4b-4902-9fe6-bc5b403e2b1c"
   },
   "outputs": [
    {
     "name": "stdout",
     "output_type": "stream",
     "text": [
      "Accuracy 92.08%\n",
      "Accuracy 86.95%\n",
      "Accuracy 93.51%\n"
     ]
    }
   ],
   "source": [
    "from sklearn.linear_model import LogisticRegression\n",
    "from sklearn.tree import DecisionTreeClassifier\n",
    "from sklearn.svm import SVC\n",
    "from sklearn.metrics import accuracy_score\n",
    "logistic_model=LogisticRegression(max_iter=1000)\n",
    "decision_model=DecisionTreeClassifier()\n",
    "svm_model=SVC(kernel='linear',C=1.0,random_state=42)\n",
    "#train the models\n",
    "logistic_model.fit(x_train,y_train)\n",
    "decision_model.fit(x_train,y_train)\n",
    "svm_model.fit(x_train,y_train)\n",
    "#Do the predictions\n",
    "y_predict1=logistic_model.predict(x_test)\n",
    "y_predict2=decision_model.predict(x_test)\n",
    "y_predict3=svm_model.predict(x_test)\n",
    "#calculate the accuracy\n",
    "accuracy1=accuracy_score(y_test,y_predict1)\n",
    "accuracy2=accuracy_score(y_test,y_predict2)\n",
    "accuracy3=accuracy_score(y_test,y_predict3)\n",
    "#print the accuracy\n",
    "print(f\"Accuracy {accuracy1*100:.2f}%\")\n",
    "print(f\"Accuracy {accuracy2*100:.2f}%\")\n",
    "print(f\"Accuracy {accuracy3*100:.2f}%\")\n",
    "\n"
   ]
  },
  {
   "cell_type": "markdown",
   "metadata": {
    "id": "C_Ur7W_EDmux"
   },
   "source": [
    "\n",
    "MY OBERSERVATIONS AND INSIGHTS ABOUT THIS PROGECT\n",
    "\n"
   ]
  },
  {
   "cell_type": "markdown",
   "metadata": {
    "id": "EDd0XRpYEfAi"
   },
   "source": [
    "By performing logistic_model,decision_model and svm_model,I obeserved\n",
    "that svm_model is more better for mnist dataset program because I calculate Accuracy for these models,so that basing on the Accuracy\n",
    "I found the better method.\n",
    "1. Accuracy of svm_model is 94.04%\n",
    "2.Accuracy of logistic_model is 92.56%\n",
    "3.Accuracy of decision_model is 87.98%\n",
    "\n",
    "so,svm_model algorithm is better to use to detect a image from minist dataset\n"
   ]
  },
  {
   "cell_type": "markdown",
   "metadata": {
    "id": "QBPXKUKGKBTQ"
   },
   "source": [
    "Comparision Table\n",
    "\n",
    "\n",
    "S.NO\n",
    "\n",
    "MODEL\n",
    "\n",
    "ACCURACY\n",
    "\n",
    "1.\n",
    "\n",
    "Logistic_model\n",
    "\n",
    "92.56%\n",
    "\n",
    "2.\n",
    "\n",
    "Decision_model\n",
    "\n",
    "87.98%\n",
    "\n",
    "3.\n",
    "\n",
    "Svm_model\n",
    "\n",
    "94.04%\n",
    "\n",
    "\n",
    "\n",
    "\n",
    "\n",
    "\n",
    "\n",
    "\n",
    "\n"
   ]
  }
 ],
 "metadata": {
  "colab": {
   "provenance": []
  },
  "kernelspec": {
   "display_name": "Python 3",
   "name": "python3"
  },
  "language_info": {
   "codemirror_mode": {
    "name": "ipython",
    "version": 3
   },
   "file_extension": ".py",
   "mimetype": "text/x-python",
   "name": "python",
   "nbconvert_exporter": "python",
   "pygments_lexer": "ipython3",
   "version": "3.11.5"
  }
 },
 "nbformat": 4,
 "nbformat_minor": 0
}
